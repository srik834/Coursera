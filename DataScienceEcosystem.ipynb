{
 "cells": [
  {
   "cell_type": "markdown",
   "id": "8c7a8995-56e1-4650-a5a4-15f064fdb283",
   "metadata": {},
   "source": [
    "# Data Science Tools and Ecosystem"
   ]
  },
  {
   "cell_type": "markdown",
   "id": "cd471087-1779-4e51-bc29-6af3717665d3",
   "metadata": {},
   "source": [
    "## In this notebook, Data Science Tools and Ecosystem are summarized."
   ]
  },
  {
   "cell_type": "markdown",
   "id": "e742c8b9-b631-4522-bf2c-d2caf6a5edf3",
   "metadata": {},
   "source": [
    "## Objectives:\n",
    "- List popular languages for Data Science\n",
    "- List libraries commonly used by data scientists\n",
    "- List development environment open source tools used in data science "
   ]
  },
  {
   "cell_type": "markdown",
   "id": "1ecafed2-16f2-4b9f-b1a9-edb22aaca82a",
   "metadata": {},
   "source": [
    "## Some of the popular languages that Data Scientists use are:\n",
    "1. Python\n",
    "2. R\n",
    "3. Julia"
   ]
  },
  {
   "cell_type": "markdown",
   "id": "1137816d-4bb6-4312-8557-6cf95f40b462",
   "metadata": {},
   "source": [
    "## Some of the commonly used libraries used by Data Scientists include:\n",
    "1. Pandas\n",
    "2. NumPy\n",
    "3. Matplotlib"
   ]
  },
  {
   "cell_type": "markdown",
   "id": "ad03b608-46b5-4b63-9332-3e45bbc54cf4",
   "metadata": {},
   "source": [
    "## Data Science Tools:\n",
    "1. Jupyter\n",
    "2. VS Code\n",
    "3. RStudio"
   ]
  },
  {
   "cell_type": "markdown",
   "id": "a3c4ecd4-8125-434d-9851-0834dc170ffd",
   "metadata": {},
   "source": [
    "### Below are a few examples of evaluating arithmetic expressions in Python\n",
    "- 1+1\n",
    "- 1*1\n",
    "- 1-1"
   ]
  },
  {
   "cell_type": "code",
   "execution_count": 1,
   "id": "4093792f-05fa-471e-a009-b32a52effc9f",
   "metadata": {},
   "outputs": [
    {
     "data": {
      "text/plain": [
       "17"
      ]
     },
     "execution_count": 1,
     "metadata": {},
     "output_type": "execute_result"
    }
   ],
   "source": [
    "# This a simple arithmetic expression to mutiply then add integers\n",
    "(3*4)+5"
   ]
  },
  {
   "cell_type": "code",
   "execution_count": 2,
   "id": "4b8b1817-6c24-4c36-9b0c-5040803d15ef",
   "metadata": {},
   "outputs": [
    {
     "data": {
      "text/plain": [
       "3.3333333333333335"
      ]
     },
     "execution_count": 2,
     "metadata": {},
     "output_type": "execute_result"
    }
   ],
   "source": [
    "# This will convert 200 minutes to hours by diving by 60\n",
    "200/60"
   ]
  },
  {
   "cell_type": "markdown",
   "id": "34a6df27-d926-4690-a471-999eef9e1ddd",
   "metadata": {},
   "source": [
    "## Author\n",
    "Srikanth"
   ]
  }
 ],
 "metadata": {
  "kernelspec": {
   "display_name": "Python 3 (ipykernel)",
   "language": "python",
   "name": "python3"
  },
  "language_info": {
   "codemirror_mode": {
    "name": "ipython",
    "version": 3
   },
   "file_extension": ".py",
   "mimetype": "text/x-python",
   "name": "python",
   "nbconvert_exporter": "python",
   "pygments_lexer": "ipython3",
   "version": "3.12.8"
  }
 },
 "nbformat": 4,
 "nbformat_minor": 5
}
